{
 "cells": [
  {
   "cell_type": "markdown",
   "id": "cef2e0f2-93d4-4f00-8972-c245e281ce8e",
   "metadata": {},
   "source": [
    "# Splitting large LAZ files"
   ]
  },
  {
   "cell_type": "code",
   "execution_count": 1,
   "id": "bea5c5e2-0d80-4756-b293-db180f34225e",
   "metadata": {},
   "outputs": [],
   "source": [
    "import laspy\n",
    "import numpy as np\n",
    "import os\n",
    "import glob\n",
    "import dask.bag as db\n",
    "from dask.distributed import LocalCluster"
   ]
  },
  {
   "cell_type": "code",
   "execution_count": 2,
   "id": "9d7931f8-5e1c-4237-8b37-ef000cafce1a",
   "metadata": {},
   "outputs": [],
   "source": [
    "local_path_AHN4 = \"/project/lidarac/Data/AHN4/las\"\n",
    "\n",
    "laz_files = [f for f in os.listdir(local_path_AHN4) if f.endswith('.LAZ')]\n"
   ]
  },
  {
   "cell_type": "code",
   "execution_count": 3,
   "id": "121e9970-62ef-4834-b8e6-f26b11d858e8",
   "metadata": {},
   "outputs": [],
   "source": [
    "max_filesize = 250 * 2**20  # desired max file size (in bytes)"
   ]
  },
  {
   "cell_type": "code",
   "execution_count": 10,
   "id": "07a5c82b-4d50-4e45-ab5c-3cf5c565e57e",
   "metadata": {},
   "outputs": [],
   "source": [
    "LAZ_COMPRESSION_FACTOR = 7\n",
    "\n",
    "def save_chunk_to_laz_file(in_filename, \n",
    "                           out_filename, \n",
    "                           offset, \n",
    "                           n_points):\n",
    "    \"\"\"Read points from a LAS/LAZ file and write them to a new file.\"\"\"\n",
    "    \n",
    "    points = np.array([])\n",
    "    \n",
    "    with laspy.open(in_filename) as in_file:\n",
    "        with laspy.open(out_filename, \n",
    "                        mode=\"w\", \n",
    "                        header=in_file.header) as out_file:\n",
    "            in_file.seek(offset)\n",
    "            points = in_file.read_points(n_points)\n",
    "            out_file.write_points(points)\n",
    "    return len(points)\n",
    "\n",
    "def split_strategy(filename, max_filesize):\n",
    "    \"\"\"Set up splitting strategy for a LAS/LAZ file.\"\"\"\n",
    "    with laspy.open(filename) as f:\n",
    "        bytes_per_point = (\n",
    "            f.header.point_format.num_standard_bytes +\n",
    "            f.header.point_format.num_extra_bytes\n",
    "        )\n",
    "        n_points = f.header.point_count\n",
    "    n_points_target = int(\n",
    "        max_filesize * LAZ_COMPRESSION_FACTOR / bytes_per_point\n",
    "    )\n",
    "    stem, ext = os.path.splitext(filename)\n",
    "    return [\n",
    "        (filename, f\"{stem}-{n}{ext}\", offset, n_points_target)\n",
    "        for n, offset in enumerate(range(0, n_points, n_points_target))\n",
    "    ]"
   ]
  },
  {
   "cell_type": "code",
   "execution_count": 11,
   "id": "066b0e40-9865-42ed-98c0-e08c5c057929",
   "metadata": {},
   "outputs": [],
   "source": [
    "# set up calculation\n",
    "files = db.from_sequence(laz_files) \n",
    "input_args = files.map(split_strategy, max_filesize=max_filesize) \\\n",
    "    .flatten() \\\n",
    "    .unzip(4)  # unpack input arguments\n",
    "res = db.map(save_chunk_to_laz_file, *input_args)"
   ]
  },
  {
   "cell_type": "code",
   "execution_count": 12,
   "id": "e23fb101-a297-479c-8742-d71a0e4a9033",
   "metadata": {},
   "outputs": [],
   "source": [
    "# start Dask cluster before this cell!\n",
    "tot_points = res.compute()"
   ]
  },
  {
   "cell_type": "code",
   "execution_count": null,
   "id": "80c192da-7fbc-4e0c-ac66-48a30f192ea9",
   "metadata": {},
   "outputs": [],
   "source": [
    "# splitted points\n",
    "sum(tot_points)"
   ]
  },
  {
   "cell_type": "code",
   "execution_count": 90,
   "id": "586dc845-105a-45c3-bcdb-57e37dd2e6a1",
   "metadata": {},
   "outputs": [],
   "source": [
    "cluster.close()"
   ]
  }
 ],
 "metadata": {
  "kernelspec": {
   "display_name": "Python 3 (ipykernel)",
   "language": "python",
   "name": "python3"
  },
  "language_info": {
   "codemirror_mode": {
    "name": "ipython",
    "version": 3
   },
   "file_extension": ".py",
   "mimetype": "text/x-python",
   "name": "python",
   "nbconvert_exporter": "python",
   "pygments_lexer": "ipython3",
   "version": "3.11.4"
  }
 },
 "nbformat": 4,
 "nbformat_minor": 5
}
